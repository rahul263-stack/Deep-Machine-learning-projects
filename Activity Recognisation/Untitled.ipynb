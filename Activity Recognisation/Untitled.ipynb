{
 "cells": [
  {
   "cell_type": "code",
   "execution_count": 1,
   "id": "5a0ce993",
   "metadata": {},
   "outputs": [
    {
     "name": "stdout",
     "output_type": "stream",
     "text": [
      "Collecting package metadata (current_repodata.json): ...working... done\n",
      "Solving environment: ...working... done\n",
      "\n",
      "## Package Plan ##\n",
      "\n",
      "  environment location: C:\\Users\\Rahul\\Miniconda3\\envs\\ml\n",
      "\n",
      "  added / updated specs:\n",
      "    - jupyterthemes\n",
      "\n",
      "\n",
      "The following packages will be downloaded:\n",
      "\n",
      "    package                    |            build\n",
      "    ---------------------------|-----------------\n",
      "    ca-certificates-2021.5.30  |       h5b45459_0         171 KB  conda-forge\n",
      "    certifi-2021.5.30          |   py39hcbf5309_0         142 KB  conda-forge\n",
      "    jupyterthemes-0.20.0       |             py_1         6.1 MB  conda-forge\n",
      "    lesscpy-0.15.0             |     pyhd8ed1ab_0          38 KB  conda-forge\n",
      "    openssl-1.1.1k             |       h8ffe710_1         5.8 MB  conda-forge\n",
      "    ply-3.11                   |             py_1          44 KB  conda-forge\n",
      "    python_abi-3.9             |           2_cp39           4 KB  conda-forge\n",
      "    ------------------------------------------------------------\n",
      "                                           Total:        12.2 MB\n",
      "\n",
      "The following NEW packages will be INSTALLED:\n",
      "\n",
      "  jupyterthemes      conda-forge/noarch::jupyterthemes-0.20.0-py_1\n",
      "  lesscpy            conda-forge/noarch::lesscpy-0.15.0-pyhd8ed1ab_0\n",
      "  ply                conda-forge/noarch::ply-3.11-py_1\n",
      "  python_abi         conda-forge/win-64::python_abi-3.9-2_cp39\n",
      "\n",
      "The following packages will be UPDATED:\n",
      "\n",
      "  openssl              pkgs/main::openssl-1.1.1k-h2bbff1b_0 --> conda-forge::openssl-1.1.1k-h8ffe710_1\n",
      "\n",
      "The following packages will be SUPERSEDED by a higher-priority channel:\n",
      "\n",
      "  ca-certificates    pkgs/main::ca-certificates-2021.7.5-h~ --> conda-forge::ca-certificates-2021.5.30-h5b45459_0\n",
      "  certifi            pkgs/main::certifi-2021.5.30-py39haa9~ --> conda-forge::certifi-2021.5.30-py39hcbf5309_0\n",
      "\n",
      "\n",
      "\n",
      "Downloading and Extracting Packages\n",
      "\n",
      "jupyterthemes-0.20.0 | 6.1 MB    |            |   0% \n",
      "jupyterthemes-0.20.0 | 6.1 MB    |            |   0% \n",
      "jupyterthemes-0.20.0 | 6.1 MB    | 6          |   6% \n",
      "jupyterthemes-0.20.0 | 6.1 MB    | #1         |  12% \n",
      "jupyterthemes-0.20.0 | 6.1 MB    | #6         |  17% \n",
      "jupyterthemes-0.20.0 | 6.1 MB    | ##2        |  22% \n",
      "jupyterthemes-0.20.0 | 6.1 MB    | ##7        |  28% \n",
      "jupyterthemes-0.20.0 | 6.1 MB    | ###2       |  33% \n",
      "jupyterthemes-0.20.0 | 6.1 MB    | ###8       |  38% \n",
      "jupyterthemes-0.20.0 | 6.1 MB    | ####4      |  44% \n",
      "jupyterthemes-0.20.0 | 6.1 MB    | ####9      |  49% \n",
      "jupyterthemes-0.20.0 | 6.1 MB    | #####4     |  54% \n",
      "jupyterthemes-0.20.0 | 6.1 MB    | ######     |  61% \n",
      "jupyterthemes-0.20.0 | 6.1 MB    | ######6    |  66% \n",
      "jupyterthemes-0.20.0 | 6.1 MB    | #######1   |  71% \n",
      "jupyterthemes-0.20.0 | 6.1 MB    | #######7   |  77% \n",
      "jupyterthemes-0.20.0 | 6.1 MB    | ########2  |  82% \n",
      "jupyterthemes-0.20.0 | 6.1 MB    | ########7  |  87% \n",
      "jupyterthemes-0.20.0 | 6.1 MB    | #########5 |  95% \n",
      "jupyterthemes-0.20.0 | 6.1 MB    | ########## | 100% \n",
      "\n",
      "certifi-2021.5.30    | 142 KB    |            |   0% \n",
      "certifi-2021.5.30    | 142 KB    | ########## | 100% \n",
      "certifi-2021.5.30    | 142 KB    | ########## | 100% \n",
      "\n",
      "ca-certificates-2021 | 171 KB    |            |   0% \n",
      "ca-certificates-2021 | 171 KB    | ########## | 100% \n",
      "ca-certificates-2021 | 171 KB    | ########## | 100% \n",
      "\n",
      "lesscpy-0.15.0       | 38 KB     |            |   0% \n",
      "lesscpy-0.15.0       | 38 KB     | ####2      |  42% \n",
      "lesscpy-0.15.0       | 38 KB     | ########## | 100% \n",
      "\n",
      "openssl-1.1.1k       | 5.8 MB    |            |   0% \n",
      "openssl-1.1.1k       | 5.8 MB    | 4          |   4% \n",
      "openssl-1.1.1k       | 5.8 MB    | ####3      |  43% \n",
      "openssl-1.1.1k       | 5.8 MB    | ######8    |  69% \n",
      "openssl-1.1.1k       | 5.8 MB    | #########2 |  93% \n",
      "openssl-1.1.1k       | 5.8 MB    | ########## | 100% \n",
      "\n",
      "python_abi-3.9       | 4 KB      |            |   0% \n",
      "python_abi-3.9       | 4 KB      | ########## | 100% \n",
      "\n",
      "ply-3.11             | 44 KB     |            |   0% \n",
      "ply-3.11             | 44 KB     | ########## | 100% \n",
      "Preparing transaction: ...working... done\n",
      "Verifying transaction: ...working... done\n",
      "Executing transaction: ...working... done\n",
      "\n",
      "Note: you may need to restart the kernel to use updated packages.\n"
     ]
    }
   ],
   "source": [
    "conda install -c conda-forge jupyterthemes"
   ]
  },
  {
   "cell_type": "code",
   "execution_count": 3,
   "id": "a8f1f5a6",
   "metadata": {},
   "outputs": [
    {
     "name": "stdout",
     "output_type": "stream",
     "text": [
      "Available Themes: \n",
      "   chesterish\n",
      "   grade3\n",
      "   gruvboxd\n",
      "   gruvboxl\n",
      "   monokai\n",
      "   oceans16\n",
      "   onedork\n",
      "   solarizedd\n",
      "   solarizedl\n"
     ]
    }
   ],
   "source": [
    "!jt -l"
   ]
  },
  {
   "cell_type": "code",
   "execution_count": 2,
   "id": "8c3d46e5",
   "metadata": {},
   "outputs": [
    {
     "ename": "NameError",
     "evalue": "name 'jt' is not defined",
     "output_type": "error",
     "traceback": [
      "\u001b[1;31m---------------------------------------------------------------------------\u001b[0m",
      "\u001b[1;31mNameError\u001b[0m                                 Traceback (most recent call last)",
      "\u001b[1;32m~\\AppData\\Local\\Temp/ipykernel_27084/1171329874.py\u001b[0m in \u001b[0;36m<module>\u001b[1;34m\u001b[0m\n\u001b[1;32m----> 1\u001b[1;33m \u001b[0mjt\u001b[0m \u001b[1;33m-\u001b[0m\u001b[0mt\u001b[0m\u001b[1;33m\u001b[0m\u001b[1;33m\u001b[0m\u001b[0m\n\u001b[0m",
      "\u001b[1;31mNameError\u001b[0m: name 'jt' is not defined"
     ]
    }
   ],
   "source": [
    "jt -t"
   ]
  },
  {
   "cell_type": "code",
   "execution_count": null,
   "id": "36ab0456",
   "metadata": {},
   "outputs": [],
   "source": []
  }
 ],
 "metadata": {
  "kernelspec": {
   "display_name": "Python 3 (ipykernel)",
   "language": "python",
   "name": "python3"
  },
  "language_info": {
   "codemirror_mode": {
    "name": "ipython",
    "version": 3
   },
   "file_extension": ".py",
   "mimetype": "text/x-python",
   "name": "python",
   "nbconvert_exporter": "python",
   "pygments_lexer": "ipython3",
   "version": "3.9.5"
  }
 },
 "nbformat": 4,
 "nbformat_minor": 5
}
